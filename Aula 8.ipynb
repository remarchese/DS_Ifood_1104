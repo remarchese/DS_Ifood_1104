{
 "cells": [
  {
   "cell_type": "markdown",
   "id": "66ac40ff",
   "metadata": {},
   "source": [
    "# Usar o ChatGPT para criar exercícios"
   ]
  },
  {
   "cell_type": "code",
   "execution_count": 1,
   "id": "be0e3af0",
   "metadata": {},
   "outputs": [],
   "source": [
    "def soma(a,b):\n",
    "    c = a + b\n",
    "    return c"
   ]
  },
  {
   "cell_type": "code",
   "execution_count": 2,
   "id": "4da2b29e",
   "metadata": {},
   "outputs": [
    {
     "data": {
      "text/plain": [
       "9"
      ]
     },
     "execution_count": 2,
     "metadata": {},
     "output_type": "execute_result"
    }
   ],
   "source": [
    "soma(4,5)"
   ]
  },
  {
   "cell_type": "code",
   "execution_count": 4,
   "id": "a9bbafe5",
   "metadata": {},
   "outputs": [],
   "source": [
    "c = 3"
   ]
  },
  {
   "cell_type": "code",
   "execution_count": 7,
   "id": "001fd413",
   "metadata": {},
   "outputs": [
    {
     "data": {
      "text/plain": [
       "3"
      ]
     },
     "execution_count": 7,
     "metadata": {},
     "output_type": "execute_result"
    }
   ],
   "source": [
    "soma(3,0)"
   ]
  },
  {
   "cell_type": "code",
   "execution_count": 8,
   "id": "0453d35a",
   "metadata": {},
   "outputs": [
    {
     "data": {
      "text/plain": [
       "3"
      ]
     },
     "execution_count": 8,
     "metadata": {},
     "output_type": "execute_result"
    }
   ],
   "source": [
    "soma(a=3,b=0)"
   ]
  },
  {
   "cell_type": "code",
   "execution_count": 9,
   "id": "e400b765",
   "metadata": {},
   "outputs": [
    {
     "data": {
      "text/plain": [
       "3"
      ]
     },
     "execution_count": 9,
     "metadata": {},
     "output_type": "execute_result"
    }
   ],
   "source": [
    "soma(3,b=0)"
   ]
  },
  {
   "cell_type": "code",
   "execution_count": 10,
   "id": "97d6cfad",
   "metadata": {},
   "outputs": [
    {
     "data": {
      "text/plain": [
       "3"
      ]
     },
     "execution_count": 10,
     "metadata": {},
     "output_type": "execute_result"
    }
   ],
   "source": [
    "soma(a=c, b=0)"
   ]
  },
  {
   "cell_type": "code",
   "execution_count": 11,
   "id": "42212a63",
   "metadata": {},
   "outputs": [
    {
     "data": {
      "text/plain": [
       "6"
      ]
     },
     "execution_count": 11,
     "metadata": {},
     "output_type": "execute_result"
    }
   ],
   "source": [
    "len(\"Python\")"
   ]
  },
  {
   "cell_type": "code",
   "execution_count": 12,
   "id": "4fbd22d8",
   "metadata": {},
   "outputs": [
    {
     "ename": "TypeError",
     "evalue": "object of type 'int' has no len()",
     "output_type": "error",
     "traceback": [
      "\u001b[1;31m---------------------------------------------------------------------------\u001b[0m",
      "\u001b[1;31mTypeError\u001b[0m                                 Traceback (most recent call last)",
      "Cell \u001b[1;32mIn[12], line 1\u001b[0m\n\u001b[1;32m----> 1\u001b[0m \u001b[38;5;28;43mlen\u001b[39;49m\u001b[43m(\u001b[49m\u001b[38;5;241;43m66\u001b[39;49m\u001b[43m)\u001b[49m\n",
      "\u001b[1;31mTypeError\u001b[0m: object of type 'int' has no len()"
     ]
    }
   ],
   "source": [
    "len(66) # --> len só para iteráveis "
   ]
  },
  {
   "cell_type": "code",
   "execution_count": 13,
   "id": "94d24dad",
   "metadata": {},
   "outputs": [
    {
     "data": {
      "text/plain": [
       "2"
      ]
     },
     "execution_count": 13,
     "metadata": {},
     "output_type": "execute_result"
    }
   ],
   "source": [
    "len('66')"
   ]
  },
  {
   "cell_type": "code",
   "execution_count": 14,
   "id": "7dde4cad",
   "metadata": {},
   "outputs": [
    {
     "data": {
      "text/plain": [
       "3"
      ]
     },
     "execution_count": 14,
     "metadata": {},
     "output_type": "execute_result"
    }
   ],
   "source": [
    "len([1,2,3])"
   ]
  },
  {
   "cell_type": "code",
   "execution_count": 15,
   "id": "695378a4",
   "metadata": {},
   "outputs": [
    {
     "data": {
      "text/plain": [
       "3"
      ]
     },
     "execution_count": 15,
     "metadata": {},
     "output_type": "execute_result"
    }
   ],
   "source": [
    "len((1,2,3))"
   ]
  },
  {
   "cell_type": "code",
   "execution_count": 16,
   "id": "d846b835",
   "metadata": {},
   "outputs": [
    {
     "data": {
      "text/plain": [
       "10"
      ]
     },
     "execution_count": 16,
     "metadata": {},
     "output_type": "execute_result"
    }
   ],
   "source": [
    "len(range(10))"
   ]
  },
  {
   "cell_type": "code",
   "execution_count": 17,
   "id": "ae5290b6",
   "metadata": {},
   "outputs": [
    {
     "data": {
      "text/plain": [
       "6"
      ]
     },
     "execution_count": 17,
     "metadata": {},
     "output_type": "execute_result"
    }
   ],
   "source": [
    "len(\"Python\")"
   ]
  },
  {
   "cell_type": "code",
   "execution_count": 18,
   "id": "6bd74d41",
   "metadata": {},
   "outputs": [],
   "source": [
    "def calculadora(operacao, num1, num2):\n",
    "    if operacao == 'soma':\n",
    "        return soma(num1,num2)"
   ]
  },
  {
   "cell_type": "code",
   "execution_count": 19,
   "id": "eb754ee9",
   "metadata": {},
   "outputs": [
    {
     "data": {
      "text/plain": [
       "3"
      ]
     },
     "execution_count": 19,
     "metadata": {},
     "output_type": "execute_result"
    }
   ],
   "source": [
    "calculadora('soma', 1, 2)"
   ]
  },
  {
   "cell_type": "markdown",
   "id": "818b1ce2",
   "metadata": {},
   "source": [
    "Exercício: Sistema de Entrega de Comidas\n",
    "\n",
    "Imagine que você está criando um sistema de entrega de comidas chamado \"FoodExpress\". Você foi encarregado de desenvolver algumas funcionalidades relacionadas às entregas. Aqui está um exercício que envolve funções para o seu sistema de entrega de comidas:\n",
    "\n",
    "1. Função de Cálculo do Tempo de Entrega:\n",
    "\n",
    "Crie uma função chamada calcular_tempo_entrega(distancia_km, velocidade_media_kmh) que recebe a distância em quilômetros (distancia_km) entre o restaurante e o endereço de entrega, e a velocidade média em quilômetros por hora (velocidade_media_kmh) do entregador. A função deve calcular e retornar o tempo estimado de entrega em minutos. Considere que o entregador leva um tempo adicional de 5 minutos para cada parada durante o percurso.\n",
    "\n",
    "2. Função de Taxa de Entrega:\n",
    "\n",
    "Crie uma função chamada calcular_taxa_entrega(tempo_entrega_minutos) que recebe o tempo de entrega em minutos (tempo_entrega_minutos) e calcula a taxa de entrega com base no tempo. Se o tempo de entrega for inferior a 30 minutos, a taxa de entrega é de `R$ 5,00`. Para tempos de entrega entre 30 e 60 minutos, a taxa é de `R$ 3,00`. Para tempos de entrega superiores a 60 minutos, a entrega é gratuita.\n",
    "\n",
    "3. Função de Exibição de Recibo:\n",
    "\n",
    "Crie uma função chamada gerar_recibo(nome_cliente, comida_pedida, taxa_entrega) que recebe o nome do cliente (nome_cliente), a comida pedida (comida_pedida) e a taxa de entrega (taxa_entrega). A função deve exibir um recibo para o cliente, indicando o nome do cliente, a comida pedida, a taxa de entrega e o total a ser pago (taxa de entrega + custo da comida). Considere que o custo da comida é de `R$ 20,00`.\n",
    "\n",
    "Instruções:\n",
    "\n",
    "Peça ao usuário que insira a distância em quilômetros e a velocidade média do entregador em quilômetros por hora.\n",
    "Use a função calcular_tempo_entrega para calcular o tempo de entrega.\n",
    "Use a função calcular_taxa_entrega para calcular a taxa de entrega com base no tempo calculado.\n",
    "Use a função gerar_recibo para exibir o recibo para o cliente.\n",
    "\n",
    "```python\n",
    "Digite a distância entre o restaurante e o endereço de entrega (em km): 3.5\n",
    "Digite a velocidade média do entregador (em km/h): 10\n",
    "\n",
    "Tempo estimado de entrega: 40 minutos\n",
    "Taxa de entrega: R$ 3,00\n",
    "\n",
    "Recibo:\n",
    "Nome do Cliente: João\n",
    "Comida Pedida: Pizza\n",
    "Taxa de Entrega: R$ 3,00\n",
    "Total a Pagar: R$ 23,00\n",
    "```"
   ]
  },
  {
   "cell_type": "code",
   "execution_count": 44,
   "id": "7c9fcbb2",
   "metadata": {},
   "outputs": [],
   "source": [
    "def calcular_tempo_entrega(distancia_km, velocidade_media_kmh):\n",
    "    parada = 0\n",
    "    tempo_de_viagem = distancia_km / velocidade_media_kmh\n",
    "    tempo_de_entrega = tempo_de_viagem * 60 + 5 * parada\n",
    "    print(f'\\nTempo estimado de entrega: {tempo_de_entrega} minutos')\n",
    "    return tempo_de_entrega\n",
    "\n",
    "def calcular_taxa_entrega(tempo_entrega_minutos):\n",
    "    if tempo_entrega_minutos < 30:\n",
    "        taxa_entrega = 5.000\n",
    "    elif tempo_entrega_minutos < 60:\n",
    "        taxa_entrega = 3.000\n",
    "    else:\n",
    "        taxa_entrega = 0\n",
    "    print(f'Taxa de entrega: R$ {round(taxa_entrega,2)}')\n",
    "    return taxa_entrega\n",
    "\n",
    "def gerar_recibo(nome_cliente, comida_pedida, taxa_entrega):\n",
    "    custo_comida = 20\n",
    "    total_pagar = custo_comida + taxa_entrega\n",
    "    \n",
    "    print('\\nRecibo:')\n",
    "    print(f'Nome do Cliente: {nome_cliente}')\n",
    "    print(f'Comida Pedida: {comida_pedida}')\n",
    "    print(f'Taxa de Entrega: R${round(taxa_entrega,2)}')\n",
    "    print(f'Total a Pagar: R${round(total_pagar,2)}')"
   ]
  },
  {
   "cell_type": "code",
   "execution_count": 45,
   "id": "796c37f3",
   "metadata": {},
   "outputs": [
    {
     "name": "stdout",
     "output_type": "stream",
     "text": [
      "Digite a distância entre o restaurante e o endereço de entrega (em km): 3.5\n",
      "Digite a velocidade média do entregador (em km/h): 10\n",
      "\n",
      "Tempo estimado de entrega: 21.0 minutos\n",
      "Taxa de entrega: R$ 5.0\n",
      "Digite o nome do cliente: João\n",
      "Digite a comida pedida: Pizza\n",
      "\n",
      "Recibo:\n",
      "Nome do Cliente: João\n",
      "Comida Pedida: Pizza\n",
      "Taxa de Entrega: 5.0\n",
      "Total a Pagar: 25.0\n"
     ]
    }
   ],
   "source": [
    "distancia_km = float(input('Digite a distância entre o restaurante e o endereço de entrega (em km): '))\n",
    "velocidade_media_kmh = float(input('Digite a velocidade média do entregador (em km/h): '))\n",
    "\n",
    "tempo_entrega_minutos = calcular_tempo_entrega(distancia_km, velocidade_media_kmh)\n",
    "taxa_entrega = calcular_taxa_entrega(tempo_entrega_minutos)\n",
    "\n",
    "nome_cliente = input('Digite o nome do cliente: ')\n",
    "comida_pedida = input('Digite a comida pedida: ')\n",
    "\n",
    "gerar_recibo(nome_cliente, comida_pedida, taxa_entrega)"
   ]
  },
  {
   "cell_type": "code",
   "execution_count": null,
   "id": "8453fd0f",
   "metadata": {},
   "outputs": [],
   "source": [
    "Digite a distância entre o restaurante e o endereço de entrega (em km): 3.5\n",
    "Digite a velocidade média do entregador (em km/h): 10\n",
    "\n",
    "Tempo estimado de entrega: 40 minutos\n",
    "Taxa de entrega: R$ 3,00\n",
    "\n",
    "Recibo:\n",
    "Nome do Cliente: João\n",
    "Comida Pedida: Pizza\n",
    "Taxa de Entrega: R$ 3,00\n",
    "Total a Pagar: R$ 23,00"
   ]
  },
  {
   "cell_type": "code",
   "execution_count": 47,
   "id": "e2ba1b36",
   "metadata": {},
   "outputs": [
    {
     "name": "stdout",
     "output_type": "stream",
     "text": [
      "Digite a distância entre o restaurante e o endereço de entrega (em km): 3.5\n",
      "Digite a velocidade média do entregador (em km/h): 10\n",
      "Digite o nome do cliente: João\n",
      "Digite a comida pedida: Pizza\n",
      "\n",
      "Recibo:\n",
      "Nome do Cliente: João\n",
      "Comida Pedida: Pizza\n",
      "Taxa de Entrega: R$ 5.00\n",
      "Total a Pagar: R$ 25.00\n"
     ]
    }
   ],
   "source": [
    "# Função para calcular o tempo de entrega em minutos\n",
    "def calcular_tempo_entrega(distancia_km, velocidade_media_kmh):\n",
    "    tempo_viagem_minutos = (distancia_km / velocidade_media_kmh) * 60\n",
    "    tempo_paradas_minutos = 5 * (distancia_km // velocidade_media_kmh)\n",
    "    tempo_total_minutos = tempo_viagem_minutos + tempo_paradas_minutos\n",
    "    return tempo_total_minutos\n",
    "\n",
    "# Função para calcular a taxa de entrega com base no tempo de entrega\n",
    "def calcular_taxa_entrega(tempo_entrega_minutos):\n",
    "    if tempo_entrega_minutos < 30:\n",
    "        taxa_entrega = 5.00\n",
    "    elif tempo_entrega_minutos <= 60:\n",
    "        taxa_entrega = 3.00\n",
    "    else:\n",
    "        taxa_entrega = 0.00\n",
    "    return taxa_entrega\n",
    "\n",
    "# Função para gerar o recibo\n",
    "def gerar_recibo(nome_cliente, comida_pedida, taxa_entrega):\n",
    "    custo_comida = 20.00\n",
    "    total_pagar = custo_comida + taxa_entrega\n",
    "    \n",
    "    print(\"\\nRecibo:\")\n",
    "    print(\"Nome do Cliente:\", nome_cliente)\n",
    "    print(\"Comida Pedida:\", comida_pedida)\n",
    "    print(\"Taxa de Entrega: R$\", \"{:.2f}\".format(taxa_entrega))\n",
    "    print(\"Total a Pagar: R$\", \"{:.2f}\".format(total_pagar))\n",
    "\n",
    "# Entrada de dados pelo usuário\n",
    "distancia_km = float(input(\"Digite a distância entre o restaurante e o endereço de entrega (em km): \"))\n",
    "velocidade_media_kmh = float(input(\"Digite a velocidade média do entregador (em km/h): \"))\n",
    "nome_cliente = input(\"Digite o nome do cliente: \")\n",
    "comida_pedida = input(\"Digite a comida pedida: \")\n",
    "\n",
    "# Calcular tempo de entrega\n",
    "tempo_entrega_minutos = calcular_tempo_entrega(distancia_km, velocidade_media_kmh)\n",
    "\n",
    "# Calcular taxa de entrega\n",
    "taxa_entrega = calcular_taxa_entrega(tempo_entrega_minutos)\n",
    "\n",
    "# Gerar e exibir o recibo\n",
    "gerar_recibo(nome_cliente, comida_pedida, taxa_entrega)\n"
   ]
  },
  {
   "cell_type": "code",
   "execution_count": null,
   "id": "71937da7",
   "metadata": {},
   "outputs": [],
   "source": []
  },
  {
   "cell_type": "code",
   "execution_count": null,
   "id": "204559af",
   "metadata": {},
   "outputs": [],
   "source": []
  },
  {
   "cell_type": "code",
   "execution_count": null,
   "id": "b81cbf6b",
   "metadata": {},
   "outputs": [],
   "source": []
  }
 ],
 "metadata": {
  "kernelspec": {
   "display_name": "Python 3 (ipykernel)",
   "language": "python",
   "name": "python3"
  },
  "language_info": {
   "codemirror_mode": {
    "name": "ipython",
    "version": 3
   },
   "file_extension": ".py",
   "mimetype": "text/x-python",
   "name": "python",
   "nbconvert_exporter": "python",
   "pygments_lexer": "ipython3",
   "version": "3.10.9"
  }
 },
 "nbformat": 4,
 "nbformat_minor": 5
}
